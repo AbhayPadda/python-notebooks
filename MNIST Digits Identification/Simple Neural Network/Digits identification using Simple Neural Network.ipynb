{
 "cells": [
  {
   "cell_type": "markdown",
   "metadata": {
    "collapsed": true
   },
   "source": [
    "## Digits identification using Simple Neural Network\n",
    "\n",
    "### We'll import MNIST dataset directly from the Keras library. "
   ]
  },
  {
   "cell_type": "code",
   "execution_count": 1,
   "metadata": {},
   "outputs": [
    {
     "name": "stderr",
     "output_type": "stream",
     "text": [
      "Using TensorFlow backend.\n"
     ]
    }
   ],
   "source": [
    "## Import required packages\n",
    "import matplotlib.pyplot as plt\n",
    "import numpy\n",
    "from keras.datasets import mnist\n",
    "from keras.models import Sequential\n",
    "from keras.layers import Dense\n",
    "from keras.layers import Dropout\n",
    "from keras.utils import np_utils"
   ]
  },
  {
   "cell_type": "code",
   "execution_count": 2,
   "metadata": {},
   "outputs": [
    {
     "data": {
      "image/png": "[encoded data removed]",
      "text/plain": [
       "<matplotlib.figure.Figure at 0x7efed21111d0>"
      ]
     },
     "metadata": {},
     "output_type": "display_data"
    }
   ],
   "source": [
    "# load the MNIST dataset\n",
    "(X_train, y_train), (X_test, y_test) = mnist.load_data()\n",
    "\n",
    "# Just to check the type of images, we will plot first 2 images \n",
    "plt.subplot(221)\n",
    "plt.imshow(X_train[0], cmap=plt.get_cmap('gray'))\n",
    "plt.subplot(222)\n",
    "plt.imshow(X_train[1], cmap=plt.get_cmap('gray'))\n",
    "\n",
    "plt.show()"
   ]
  },
  {
   "cell_type": "code",
   "execution_count": 3,
   "metadata": {},
   "outputs": [],
   "source": [
    "# Set random seed for reproducibility\n",
    "numpy.random.seed(126)\n",
    "\n",
    "# flatten 28*28 images to a 784 vector for each image. Also, I am forcing the precision of the pixel requirements to 32 bit to handle memory issues\n",
    "num_pixels = X_train.shape[1] * X_train.shape[2]\n",
    "X_train = X_train.reshape(X_train.shape[0], num_pixels).astype('float32')\n",
    "X_test = X_test.reshape(X_test.shape[0], num_pixels).astype('float32')\n",
    "\n",
    "# The values in the 784 vector for each image will be in the range 0-255, I will next normalize this in 0-1 \n",
    "X_train = X_train / 255\n",
    "X_test = X_test / 255"
   ]
  },
  {
   "cell_type": "code",
   "execution_count": 4,
   "metadata": {},
   "outputs": [],
   "source": [
    "# Y values lie in the range 0-9, so I will next convert this variable to categorical for both test and train dataset\n",
    "y_train = np_utils.to_categorical(y_train)\n",
    "y_test = np_utils.to_categorical(y_test)\n",
    "\n",
    "# Check the number of classes in the dataset. \n",
    "num_classes = y_train.shape[1]"
   ]
  },
  {
   "cell_type": "markdown",
   "metadata": {},
   "source": [
    "### Create a simple baseline Neural Network Model with single hidden layer"
   ]
  },
  {
   "cell_type": "code",
   "execution_count": 5,
   "metadata": {},
   "outputs": [],
   "source": [
    "# define baseline model\n",
    "def simple_model():\n",
    "\t# create model\n",
    "\tmodel = Sequential()\n",
    "\tmodel.add(Dense(num_pixels, input_dim=num_pixels, kernel_initializer='normal', activation='relu'))\n",
    "\tmodel.add(Dense(num_classes, kernel_initializer='normal', activation='softmax'))\n",
    "\t# Compile model\n",
    "\tmodel.compile(loss='categorical_crossentropy', optimizer='adam', metrics=['accuracy'])\n",
    "\treturn model"
   ]
  },
  {
   "cell_type": "markdown",
   "metadata": {},
   "source": [
    "#### Build and then run the model"
   ]
  },
  {
   "cell_type": "code",
   "execution_count": 6,
   "metadata": {},
   "outputs": [
    {
     "name": "stdout",
     "output_type": "stream",
     "text": [
      "Train on 60000 samples, validate on 10000 samples\n",
      "Epoch 1/10\n",
      "16s - loss: 0.2811 - acc: 0.9204 - val_loss: 0.1395 - val_acc: 0.9601\n",
      "Epoch 2/10\n",
      "15s - loss: 0.1127 - acc: 0.9677 - val_loss: 0.0963 - val_acc: 0.9715\n",
      "Epoch 3/10\n",
      "15s - loss: 0.0719 - acc: 0.9794 - val_loss: 0.0781 - val_acc: 0.9765\n",
      "Epoch 4/10\n",
      "16s - loss: 0.0501 - acc: 0.9850 - val_loss: 0.0743 - val_acc: 0.9782\n",
      "Epoch 5/10\n",
      "16s - loss: 0.0367 - acc: 0.9897 - val_loss: 0.0633 - val_acc: 0.9800\n",
      "Epoch 6/10\n",
      "16s - loss: 0.0274 - acc: 0.9926 - val_loss: 0.0636 - val_acc: 0.9799\n",
      "Epoch 7/10\n",
      "17s - loss: 0.0202 - acc: 0.9950 - val_loss: 0.0695 - val_acc: 0.9792\n",
      "Epoch 8/10\n",
      "15s - loss: 0.0149 - acc: 0.9965 - val_loss: 0.0579 - val_acc: 0.9819\n",
      "Epoch 9/10\n",
      "15s - loss: 0.0100 - acc: 0.9980 - val_loss: 0.0615 - val_acc: 0.9814\n",
      "Epoch 10/10\n",
      "15s - loss: 0.0075 - acc: 0.9988 - val_loss: 0.0594 - val_acc: 0.9823\n",
      "Baseline Error: 1.77%\n"
     ]
    }
   ],
   "source": [
    "# build the model\n",
    "model = simple_model()\n",
    "\n",
    "# Fit the model\n",
    "model.fit(X_train, y_train, validation_data=(X_test, y_test), epochs=10, batch_size=200, verbose=2)\n",
    "\n",
    "# Model Evaluation\n",
    "scores = model.evaluate(X_test, y_test, verbose=0)\n",
    "print(\"Baseline Error: %.2f%%\" % (100-scores[1]*100))"
   ]
  },
  {
   "cell_type": "markdown",
   "metadata": {},
   "source": [
    "#### The baseline error rate for this is 1.77% which is not bad considering that we have only created a simple Neural Network model with just one hidden layer, we can improve this by adding more layers. However, for more complex datasets, simple neural network may not suffice and we may need to use complex models like C-NN."
   ]
  },
  {
   "cell_type": "code",
   "execution_count": null,
   "metadata": {},
   "outputs": [],
   "source": []
  }
 ],
 "metadata": {
  "kernelspec": {
   "display_name": "Python 3.5 (Experimental) with Spark 2.1",
   "language": "python",
   "name": "python3-spark21"
  },
  "language_info": {
   "codemirror_mode": {
    "name": "ipython",
    "version": 3
   },
   "file_extension": ".py",
   "mimetype": "text/x-python",
   "name": "python",
   "nbconvert_exporter": "python",
   "pygments_lexer": "ipython3",
   "version": "3.5.2"
  }
 },
 "nbformat": 4,
 "nbformat_minor": 1
}
