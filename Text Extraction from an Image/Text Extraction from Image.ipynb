{
 "cells": [
  {
   "cell_type": "code",
   "execution_count": 1,
   "metadata": {
    "collapsed": true
   },
   "outputs": [],
   "source": [
    "import cv2\n",
    "import numpy as np\n",
    "import glob\n",
    "import os\n",
    "import imutils\n",
    "\n",
    "# For reading text from images\n",
    "from PIL import Image\n",
    "import pytesseract"
   ]
  },
  {
   "cell_type": "code",
   "execution_count": 2,
   "metadata": {
    "collapsed": true
   },
   "outputs": [],
   "source": [
    "rotated_path  = 'test/0-'\n",
    "denoised_path = 'test/1-'\n",
    "bilateral_path = 'test/2-'\n",
    "denoised_text_path = 'test/3-'\n",
    "bilateral_text_path = 'test/4-'"
   ]
  },
  {
   "cell_type": "code",
   "execution_count": 3,
   "metadata": {
    "collapsed": true
   },
   "outputs": [],
   "source": [
    "def getDenoisedImage(image_path):\n",
    "    img = cv2.imread(image_path, cv2.IMREAD_GRAYSCALE)\n",
    "    # adjust contrast\n",
    "    img = cv2.multiply(img, 1.2)\n",
    "    \n",
    "    # create a kernel for the erode() function\n",
    "    kernel = np.ones((1, 1), np.uint8)\n",
    "\n",
    "    # erode() the image to bolden the text\n",
    "    img = cv2.erode(img, kernel, iterations=5)\n",
    "    \n",
    "    # Remove noise from Image\n",
    "    denoised = cv2.fastNlMeansDenoising(img, None, 28, 11, 21)\n",
    "\n",
    "    # Decrease the contrast\n",
    "    denoised = cv2.multiply(denoised, 0.9)\n",
    "    \n",
    "    #erode() to further refine the characters\n",
    "    denoised = cv2.erode(denoised, kernel, iterations=5)\n",
    "    \n",
    "    #dilate() to increase character intensity\n",
    "    denoised = cv2.dilate(denoised, kernel, iterations=5)\n",
    "\n",
    "    return denoised\n",
    "\n",
    "def rotateImage(image):\n",
    "    edges = cv2.Canny(image, 50, 150, apertureSize = 3)\n",
    "    lines = cv2.HoughLines(edges, 1, np.pi/180, 200)\n",
    "    count = 0\n",
    "    for line in lines:\n",
    "        for rho,theta in line:\n",
    "            if (theta > 1.5):\n",
    "                break\n",
    "            a = np.cos(theta)\n",
    "            b = np.sin(theta)\n",
    "            x0 = a*rho\n",
    "            y0 = b*rho\n",
    "            x1 = int(x0 + 1000*(-b))\n",
    "            y1 = int(y0 + 1000*(a))\n",
    "            x2 = int(x0 - 1000*(-b))\n",
    "            y2 = int(y0 - 1000*(a))\n",
    "            \n",
    "            if abs(y2-y1) > abs(x2-x1):\n",
    "                count = count + 1\n",
    "    if count > (0.40 * len(lines)):\n",
    "        image = imutils.rotate_bound(image, 90)\n",
    "    return image\n",
    "    \n",
    "def writeToFile(fileText, filePath):\n",
    "    file = open(filePath,'w') \n",
    "    file.write(fileText)\n",
    "    file.close()"
   ]
  },
  {
   "cell_type": "code",
   "execution_count": 4,
   "metadata": {},
   "outputs": [],
   "source": [
    "for path in glob.iglob('test/original/*', recursive=True):\n",
    "    file_name = os.path.splitext(os.path.basename(path))[0]\n",
    "    \n",
    "    denoised = getDenoisedImage(path)\n",
    "    rotated_image = rotateImage(denoised)\n",
    "    \n",
    "    # save denoised and rotated Image\n",
    "    cv2.imwrite((denoised_path + file_name + '.jpg'), rotated_image)\n",
    "    \n",
    "    # Apply Bilateral filter to the Image and dilate it again to further bold the characters\n",
    "    kernel = np.ones((1, 1), np.uint8)\n",
    "    bilateral = cv2.bilateralFilter(denoised, 9, 80, 80)\n",
    "    bilateral = cv2.dilate(bilateral, kernel, iterations=2)\n",
    "\n",
    "    cv2.imwrite((bilateral_path + file_name + '.jpg'), bilateral)\n",
    "    \n",
    "    # Read text from denoised Image\n",
    "    denoised_image_text = pytesseract.image_to_string(Image.open(denoised_path + file_name + '.jpg'))\n",
    "    file_path = denoised_text_path + file_name + '.txt'\n",
    "    writeToFile(denoised_image_text, file_path)\n",
    "    \n",
    "    bilateral_image_text = pytesseract.image_to_string(Image.open(bilateral_path + file_name + '.jpg'))\n",
    "    file_path = bilateral_text_path + file_name + '.txt'\n",
    "    writeToFile(bilateral_image_text, file_path)"
   ]
  },
  {
   "cell_type": "code",
   "execution_count": null,
   "metadata": {
    "collapsed": true
   },
   "outputs": [],
   "source": []
  }
 ],
 "metadata": {
  "kernelspec": {
   "display_name": "Python 3",
   "language": "python",
   "name": "python3"
  },
  "language_info": {
   "codemirror_mode": {
    "name": "ipython",
    "version": 3
   },
   "file_extension": ".py",
   "mimetype": "text/x-python",
   "name": "python",
   "nbconvert_exporter": "python",
   "pygments_lexer": "ipython3",
   "version": "3.6.3"
  }
 },
 "nbformat": 4,
 "nbformat_minor": 2
}
